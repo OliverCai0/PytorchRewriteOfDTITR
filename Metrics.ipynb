{
 "cells": [
  {
   "cell_type": "code",
   "execution_count": 2,
   "id": "66c56827-dc78-4da2-846e-38bf0fac45c0",
   "metadata": {},
   "outputs": [
    {
     "name": "stderr",
     "output_type": "stream",
     "text": [
      "/home/olivercai/Desktop/environmentPython/lib/python3.8/site-packages/tqdm/auto.py:21: TqdmWarning: IProgress not found. Please update jupyter and ipywidgets. See https://ipywidgets.readthedocs.io/en/stable/user_install.html\n",
      "  from .autonotebook import tqdm as notebook_tqdm\n",
      "2023-12-03 16:15:39.704599: I tensorflow/stream_executor/platform/default/dso_loader.cc:53] Successfully opened dynamic library libcudart.so.11.0\n"
     ]
    }
   ],
   "source": [
    "import torch\n",
    "from huggingface_hub import HfApi\n",
    "from source.dataset_builder_util import dataset_builder"
   ]
  },
  {
   "cell_type": "code",
   "execution_count": 3,
   "id": "ecbba917-081d-44c8-81c1-cbb93cfa546e",
   "metadata": {},
   "outputs": [],
   "source": [
    "import glob\n",
    "\n",
    "data_path = {'data': './data/davis/dataset/davis_dataset_processed.csv',\n",
    "            'prot_dic': './dictionary/davis_prot_dictionary.txt',\n",
    "            'smiles_dic': './dictionary/davis_smiles_dictionary.txt',\n",
    "            'clusters': glob.glob('./data/davis/clusters/*'),\n",
    "            'prot_bpe': ['./dictionary/protein_codes_uniprot.txt',\n",
    "             './dictionary/subword_units_map_uniprot.csv'],\n",
    "            'smiles_bpe': ['./dictionary/drug_codes_chembl.txt',\n",
    "                            './dictionary/subword_units_map_chembl.csv']}\n",
    "\n",
    "_, _, _, clusters, _, _, _, _ = dataset_builder(data_path).get_data()"
   ]
  },
  {
   "cell_type": "code",
   "execution_count": 5,
   "id": "858bf59e-7883-4828-9da2-5ca037c839e6",
   "metadata": {},
   "outputs": [
    {
     "ename": "ModuleNotFoundError",
     "evalue": "No module named 'transformer_encoder'",
     "output_type": "error",
     "traceback": [
      "\u001b[0;31m---------------------------------------------------------------------------\u001b[0m",
      "\u001b[0;31mModuleNotFoundError\u001b[0m                       Traceback (most recent call last)",
      "Cell \u001b[0;32mIn[5], line 2\u001b[0m\n\u001b[1;32m      1\u001b[0m \u001b[38;5;66;03m# import the model architecture at the time of training\u001b[39;00m\n\u001b[0;32m----> 2\u001b[0m \u001b[38;5;28;01mfrom\u001b[39;00m \u001b[38;5;21;01msource\u001b[39;00m\u001b[38;5;21;01m.\u001b[39;00m\u001b[38;5;21;01mdtitr_model\u001b[39;00m \u001b[38;5;28;01mimport\u001b[39;00m DTITR\n",
      "File \u001b[0;32m~/Desktop/PytorchRewriteOfDTITR/source/dtitr_model.py:13\u001b[0m\n\u001b[1;32m     11\u001b[0m \u001b[38;5;28;01mfrom\u001b[39;00m \u001b[38;5;21;01mtorch\u001b[39;00m\u001b[38;5;21;01m.\u001b[39;00m\u001b[38;5;21;01mutils\u001b[39;00m\u001b[38;5;21;01m.\u001b[39;00m\u001b[38;5;21;01mdata\u001b[39;00m \u001b[38;5;28;01mimport\u001b[39;00m DataLoader\n\u001b[1;32m     12\u001b[0m \u001b[38;5;28;01mfrom\u001b[39;00m \u001b[38;5;21;01mhuggingface_hub\u001b[39;00m \u001b[38;5;28;01mimport\u001b[39;00m HfApi\n\u001b[0;32m---> 13\u001b[0m \u001b[38;5;28;01mfrom\u001b[39;00m \u001b[38;5;21;01mtransformer_encoder\u001b[39;00m \u001b[38;5;28;01mimport\u001b[39;00m Encoder\n\u001b[1;32m     14\u001b[0m \u001b[38;5;28;01mfrom\u001b[39;00m \u001b[38;5;21;01mcross_attention_transformer_encoder\u001b[39;00m \u001b[38;5;28;01mimport\u001b[39;00m CrossAttnBlock\n\u001b[1;32m     15\u001b[0m \u001b[38;5;28;01mfrom\u001b[39;00m \u001b[38;5;21;01membedding_layer\u001b[39;00m \u001b[38;5;28;01mimport\u001b[39;00m EmbeddingLayer\n",
      "\u001b[0;31mModuleNotFoundError\u001b[0m: No module named 'transformer_encoder'"
     ]
    }
   ],
   "source": [
    "# import the model architecture at the time of training\n",
    "from source.dtitr_model import DTITR"
   ]
  }
 ],
 "metadata": {
  "kernelspec": {
   "display_name": "Python 3 (ipykernel)",
   "language": "python",
   "name": "python3"
  },
  "language_info": {
   "codemirror_mode": {
    "name": "ipython",
    "version": 3
   },
   "file_extension": ".py",
   "mimetype": "text/x-python",
   "name": "python",
   "nbconvert_exporter": "python",
   "pygments_lexer": "ipython3",
   "version": "3.8.10"
  }
 },
 "nbformat": 4,
 "nbformat_minor": 5
}
